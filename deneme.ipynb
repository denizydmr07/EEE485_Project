{
 "cells": [
  {
   "cell_type": "code",
   "execution_count": 1,
   "metadata": {},
   "outputs": [],
   "source": [
    "import numpy as np\n",
    "import pandas as pd\n",
    "from utils import UtilityFunctions, PCA, Encoders # these are custom classes"
   ]
  },
  {
   "cell_type": "code",
   "execution_count": 2,
   "metadata": {},
   "outputs": [
    {
     "name": "stdout",
     "output_type": "stream",
     "text": [
      "Dataset URL: https://www.kaggle.com/datasets/fedesoriano/heart-failure-prediction\n",
      "License(s): ODbL-1.0\n",
      "heart-failure-prediction.zip: Skipping, found more recently modified local copy (use --force to force download)\n",
      "Archive:  heart-failure-prediction.zip\n",
      "  inflating: heart.csv               \n"
     ]
    }
   ],
   "source": [
    "# Download the dataset\n",
    "!kaggle datasets download -d fedesoriano/heart-failure-prediction\n",
    "\n",
    "# Unzip the dataset\n",
    "!unzip -o heart-failure-prediction.zip\n"
   ]
  },
  {
   "cell_type": "code",
   "execution_count": 3,
   "metadata": {},
   "outputs": [],
   "source": [
    "np.random.seed(42)"
   ]
  },
  {
   "cell_type": "code",
   "execution_count": 4,
   "metadata": {},
   "outputs": [
    {
     "data": {
      "text/html": [
       "<div>\n",
       "<style scoped>\n",
       "    .dataframe tbody tr th:only-of-type {\n",
       "        vertical-align: middle;\n",
       "    }\n",
       "\n",
       "    .dataframe tbody tr th {\n",
       "        vertical-align: top;\n",
       "    }\n",
       "\n",
       "    .dataframe thead th {\n",
       "        text-align: right;\n",
       "    }\n",
       "</style>\n",
       "<table border=\"1\" class=\"dataframe\">\n",
       "  <thead>\n",
       "    <tr style=\"text-align: right;\">\n",
       "      <th></th>\n",
       "      <th>Age</th>\n",
       "      <th>Sex</th>\n",
       "      <th>ChestPainType</th>\n",
       "      <th>RestingBP</th>\n",
       "      <th>Cholesterol</th>\n",
       "      <th>FastingBS</th>\n",
       "      <th>RestingECG</th>\n",
       "      <th>MaxHR</th>\n",
       "      <th>ExerciseAngina</th>\n",
       "      <th>Oldpeak</th>\n",
       "      <th>ST_Slope</th>\n",
       "      <th>HeartDisease</th>\n",
       "    </tr>\n",
       "  </thead>\n",
       "  <tbody>\n",
       "    <tr>\n",
       "      <th>0</th>\n",
       "      <td>40</td>\n",
       "      <td>M</td>\n",
       "      <td>ATA</td>\n",
       "      <td>140</td>\n",
       "      <td>289</td>\n",
       "      <td>0</td>\n",
       "      <td>Normal</td>\n",
       "      <td>172</td>\n",
       "      <td>N</td>\n",
       "      <td>0.0</td>\n",
       "      <td>Up</td>\n",
       "      <td>0</td>\n",
       "    </tr>\n",
       "    <tr>\n",
       "      <th>1</th>\n",
       "      <td>49</td>\n",
       "      <td>F</td>\n",
       "      <td>NAP</td>\n",
       "      <td>160</td>\n",
       "      <td>180</td>\n",
       "      <td>0</td>\n",
       "      <td>Normal</td>\n",
       "      <td>156</td>\n",
       "      <td>N</td>\n",
       "      <td>1.0</td>\n",
       "      <td>Flat</td>\n",
       "      <td>1</td>\n",
       "    </tr>\n",
       "    <tr>\n",
       "      <th>2</th>\n",
       "      <td>37</td>\n",
       "      <td>M</td>\n",
       "      <td>ATA</td>\n",
       "      <td>130</td>\n",
       "      <td>283</td>\n",
       "      <td>0</td>\n",
       "      <td>ST</td>\n",
       "      <td>98</td>\n",
       "      <td>N</td>\n",
       "      <td>0.0</td>\n",
       "      <td>Up</td>\n",
       "      <td>0</td>\n",
       "    </tr>\n",
       "    <tr>\n",
       "      <th>3</th>\n",
       "      <td>48</td>\n",
       "      <td>F</td>\n",
       "      <td>ASY</td>\n",
       "      <td>138</td>\n",
       "      <td>214</td>\n",
       "      <td>0</td>\n",
       "      <td>Normal</td>\n",
       "      <td>108</td>\n",
       "      <td>Y</td>\n",
       "      <td>1.5</td>\n",
       "      <td>Flat</td>\n",
       "      <td>1</td>\n",
       "    </tr>\n",
       "    <tr>\n",
       "      <th>4</th>\n",
       "      <td>54</td>\n",
       "      <td>M</td>\n",
       "      <td>NAP</td>\n",
       "      <td>150</td>\n",
       "      <td>195</td>\n",
       "      <td>0</td>\n",
       "      <td>Normal</td>\n",
       "      <td>122</td>\n",
       "      <td>N</td>\n",
       "      <td>0.0</td>\n",
       "      <td>Up</td>\n",
       "      <td>0</td>\n",
       "    </tr>\n",
       "  </tbody>\n",
       "</table>\n",
       "</div>"
      ],
      "text/plain": [
       "   Age Sex ChestPainType  RestingBP  Cholesterol  FastingBS RestingECG  MaxHR  \\\n",
       "0   40   M           ATA        140          289          0     Normal    172   \n",
       "1   49   F           NAP        160          180          0     Normal    156   \n",
       "2   37   M           ATA        130          283          0         ST     98   \n",
       "3   48   F           ASY        138          214          0     Normal    108   \n",
       "4   54   M           NAP        150          195          0     Normal    122   \n",
       "\n",
       "  ExerciseAngina  Oldpeak ST_Slope  HeartDisease  \n",
       "0              N      0.0       Up             0  \n",
       "1              N      1.0     Flat             1  \n",
       "2              N      0.0       Up             0  \n",
       "3              Y      1.5     Flat             1  \n",
       "4              N      0.0       Up             0  "
      ]
     },
     "execution_count": 4,
     "metadata": {},
     "output_type": "execute_result"
    }
   ],
   "source": [
    "# Load the dataset\n",
    "data = pd.read_csv('heart.csv')\n",
    "\n",
    "# Show the first few rows\n",
    "data.head()"
   ]
  },
  {
   "cell_type": "code",
   "execution_count": 5,
   "metadata": {},
   "outputs": [
    {
     "name": "stdout",
     "output_type": "stream",
     "text": [
      "<class 'pandas.core.frame.DataFrame'>\n",
      "RangeIndex: 918 entries, 0 to 917\n",
      "Data columns (total 11 columns):\n",
      " #   Column          Non-Null Count  Dtype  \n",
      "---  ------          --------------  -----  \n",
      " 0   Age             918 non-null    int64  \n",
      " 1   Sex             918 non-null    object \n",
      " 2   ChestPainType   918 non-null    object \n",
      " 3   RestingBP       918 non-null    int64  \n",
      " 4   Cholesterol     918 non-null    int64  \n",
      " 5   FastingBS       918 non-null    int64  \n",
      " 6   RestingECG      918 non-null    object \n",
      " 7   MaxHR           918 non-null    int64  \n",
      " 8   ExerciseAngina  918 non-null    object \n",
      " 9   Oldpeak         918 non-null    float64\n",
      " 10  ST_Slope        918 non-null    object \n",
      "dtypes: float64(1), int64(5), object(5)\n",
      "memory usage: 79.0+ KB\n"
     ]
    }
   ],
   "source": [
    "X = data.drop('HeartDisease', axis=1)\n",
    "X.info()"
   ]
  },
  {
   "cell_type": "code",
   "execution_count": 6,
   "metadata": {},
   "outputs": [],
   "source": [
    "def pipeline(X):\n",
    "    # columns to be one-hot encoded\n",
    "    one_hot_columns = [\"ChestPainType\", \"RestingECG\", \"ST_Slope\"]\n",
    "\n",
    "    # columns to be ordinal encoded\n",
    "    ordinal_columns = [\"Sex\", \"ExerciseAngina\"]\n",
    "\n",
    "    # apply one-hot encoding\n",
    "    one_hot_encoder = Encoders.OneHotEncoder()\n",
    "    for column in one_hot_columns:\n",
    "        x = one_hot_encoder.fit_transform(X[column], column_prefix=column)\n",
    "        # drop the original column\n",
    "        X = X.drop(column, axis=1)\n",
    "        # add the new columns\n",
    "        X = pd.concat([X, x], axis=1)\n",
    "\n",
    "    # apply ordinal encoding\n",
    "    ordinal_encoder = Encoders.OrdinalEncoder()\n",
    "    for column in ordinal_columns:\n",
    "        x = ordinal_encoder.fit_transform(X[column], column_prefix=column)\n",
    "        # drop the original column\n",
    "        X = X.drop(column, axis=1)\n",
    "        # add the new columns\n",
    "        X = pd.concat([X, x], axis=1)\n",
    "\n",
    "    return X"
   ]
  },
  {
   "cell_type": "code",
   "execution_count": 7,
   "metadata": {},
   "outputs": [],
   "source": [
    "def preprocess(data, train=True):\n",
    "    if train:\n",
    "        # Get the features and the target\n",
    "        X = data.drop('HeartDisease', axis=1)\n",
    "        y = data['HeartDisease']\n",
    "\n",
    "    return pipeline(X), y\n"
   ]
  },
  {
   "cell_type": "code",
   "execution_count": 8,
   "metadata": {},
   "outputs": [],
   "source": [
    "X, y = preprocess(data)"
   ]
  },
  {
   "cell_type": "code",
   "execution_count": 9,
   "metadata": {},
   "outputs": [],
   "source": [
    "# KNN model definition\n",
    "class KNN:\n",
    "    \"\"\"\n",
    "    K-Nearest Neighbors classifier.\n",
    "\n",
    "    Parameters:\n",
    "    -----------\n",
    "    k: int\n",
    "        The number of closest neighbors that will determine the class of the sample that we wish to predict.\n",
    "    \"\"\"\n",
    "\n",
    "    def __init__(self, k=5):\n",
    "        \"\"\"\n",
    "        Initialize the KNN classifier.\n",
    "\n",
    "        Parameters:\n",
    "        -----------\n",
    "        k: int\n",
    "            The number of closest neighbors that will determine the class of the sample that we wish to predict\n",
    "        \"\"\"\n",
    "        self.k = k\n",
    "\n",
    "    def fit(self, X, y):\n",
    "        \"\"\"\n",
    "        Fit the training data to the model.\n",
    "\n",
    "        Parameters:\n",
    "        -----------\n",
    "        X: numpy array\n",
    "            The training data\n",
    "        y: numpy array\n",
    "            The target labels\n",
    "        \"\"\"\n",
    "        self.X = X\n",
    "        self.y = y\n",
    "\n",
    "    def predict(self, X):\n",
    "        \"\"\"\n",
    "        Predict the class labels for the provided data.\n",
    "\n",
    "        Parameters:\n",
    "        -----------\n",
    "        X: numpy array\n",
    "            The data to predict the class labels for\n",
    "\n",
    "        Returns:\n",
    "        --------\n",
    "        numpy array\n",
    "            The predicted class labels\n",
    "        \"\"\"\n",
    "        neighbors = self.get_neighbors(X)\n",
    "        return self.get_majority(neighbors)\n",
    "    \n",
    "    def get_neighbors(self, X):\n",
    "        \"\"\"\n",
    "        Get the indices of the k closest neighbors for each test instance.\n",
    "\n",
    "        Parameters:\n",
    "        -----------\n",
    "        X: numpy array\n",
    "            The data to find the closest neighbors for\n",
    "\n",
    "        Returns:\n",
    "        --------\n",
    "        numpy array\n",
    "            The indices of the k closest neighbors for each test instance\n",
    "        \"\"\"\n",
    "        distances = self.get_distances(X)\n",
    "        neighbors = np.argsort(distances, axis=1)[:, :self.k]\n",
    "        return neighbors\n",
    "    \n",
    "    def __euclidean_distance(self, x1, x2):\n",
    "        \"\"\"\n",
    "        Compute the Euclidean distance between two vectors.\n",
    "\n",
    "        Parameters:\n",
    "        -----------\n",
    "        x1: numpy array\n",
    "            The first vector\n",
    "\n",
    "        x2: numpy array\n",
    "            The second vector\n",
    "\n",
    "        Returns:\n",
    "        --------\n",
    "        float\n",
    "            The Euclidean distance between the two vectors\n",
    "        \"\"\"\n",
    "        return np.sqrt(np.sum((x1 - x2) ** 2))\n",
    "    \n",
    "    \n",
    "    def get_distances(self, X):\n",
    "        \"\"\"\n",
    "        Get the distances between each test instance and all training instances.\n",
    "\n",
    "        Parameters:\n",
    "        -----------\n",
    "        X: numpy array\n",
    "            The data to find the distances for\n",
    "\n",
    "        Returns:\n",
    "        --------\n",
    "        numpy array\n",
    "            The distances between each test instance and all training instances\n",
    "        \"\"\"\n",
    "        distances = np.zeros((X.shape[0], self.X.shape[0]))\n",
    "        for i, test_instance in enumerate(X):\n",
    "            for j, train_instance in enumerate(self.X):\n",
    "                distances[i, j] = self.__euclidean_distance(test_instance, train_instance)\n",
    "        return distances\n",
    "    \n",
    "    def get_majority(self, neighbors):\n",
    "        \"\"\"\n",
    "        Get the majority class label for each test instance.\n",
    "\n",
    "        Parameters:\n",
    "        -----------\n",
    "        neighbors: numpy array\n",
    "            The indices of the k closest neighbors for each test instance\n",
    "\n",
    "        Returns:\n",
    "        --------\n",
    "        numpy array\n",
    "            The majority class label for each test instance\n",
    "        \"\"\"\n",
    "        majority = np.zeros(neighbors.shape[0], dtype=int)\n",
    "        for i, row in enumerate(neighbors):\n",
    "            majority[i] = np.argmax(np.bincount(self.y[row]))\n",
    "        return majority\n",
    "    \n",
    "    def score(self, X, y):\n",
    "        \"\"\"\n",
    "        Compute the accuracy of the model.\n",
    "\n",
    "        Parameters:\n",
    "        -----------\n",
    "        X: numpy array\n",
    "            The test data\n",
    "        y: numpy array\n",
    "            The true class labels\n",
    "\n",
    "        Returns:\n",
    "        --------\n",
    "        float\n",
    "            The accuracy of the model\n",
    "        \"\"\"\n",
    "        y_pred = self.predict(X)\n",
    "        return np.mean(y == y_pred)"
   ]
  },
  {
   "cell_type": "code",
   "execution_count": 10,
   "metadata": {},
   "outputs": [
    {
     "name": "stdout",
     "output_type": "stream",
     "text": [
      "<class 'pandas.core.frame.DataFrame'>\n",
      "RangeIndex: 918 entries, 0 to 917\n",
      "Data columns (total 18 columns):\n",
      " #   Column                  Non-Null Count  Dtype  \n",
      "---  ------                  --------------  -----  \n",
      " 0   Age                     918 non-null    int64  \n",
      " 1   RestingBP               918 non-null    int64  \n",
      " 2   Cholesterol             918 non-null    int64  \n",
      " 3   FastingBS               918 non-null    int64  \n",
      " 4   MaxHR                   918 non-null    int64  \n",
      " 5   Oldpeak                 918 non-null    float64\n",
      " 6   ChestPainType_ASY       918 non-null    float64\n",
      " 7   ChestPainType_ATA       918 non-null    float64\n",
      " 8   ChestPainType_NAP       918 non-null    float64\n",
      " 9   ChestPainType_TA        918 non-null    float64\n",
      " 10  RestingECG_LVH          918 non-null    float64\n",
      " 11  RestingECG_Normal       918 non-null    float64\n",
      " 12  RestingECG_ST           918 non-null    float64\n",
      " 13  ST_Slope_Down           918 non-null    float64\n",
      " 14  ST_Slope_Flat           918 non-null    float64\n",
      " 15  ST_Slope_Up             918 non-null    float64\n",
      " 16  Sex_encoded             918 non-null    int64  \n",
      " 17  ExerciseAngina_encoded  918 non-null    int64  \n",
      "dtypes: float64(11), int64(7)\n",
      "memory usage: 129.2 KB\n"
     ]
    }
   ],
   "source": [
    "X.info()"
   ]
  },
  {
   "cell_type": "code",
   "execution_count": 11,
   "metadata": {},
   "outputs": [
    {
     "data": {
      "image/png": "[encoded data removed]",
      "text/plain": [
       "<Figure size 720x432 with 1 Axes>"
      ]
     },
     "metadata": {
      "needs_background": "light"
     },
     "output_type": "display_data"
    }
   ],
   "source": [
    "# apply PCA\n",
    "pca = PCA.PCA()\n",
    "pca.fit(X)\n",
    "pca.plot_explained_variance()"
   ]
  },
  {
   "cell_type": "code",
   "execution_count": 12,
   "metadata": {},
   "outputs": [],
   "source": [
    "# split the data\n",
    "X_train, X_test, y_train, y_test = UtilityFunctions.train_test_split(X, y, test_size=0.2)"
   ]
  },
  {
   "cell_type": "code",
   "execution_count": 13,
   "metadata": {},
   "outputs": [],
   "source": [
    "# convert the data to numpy arrays\n",
    "X_train = X_train.to_numpy()\n",
    "X_test = X_test.to_numpy()\n",
    "y_train = y_train.to_numpy()\n",
    "y_test = y_test.to_numpy()"
   ]
  },
  {
   "cell_type": "code",
   "execution_count": 14,
   "metadata": {},
   "outputs": [],
   "source": [
    "# apply KNN\n",
    "knn = KNN(k=11)\n",
    "knn.fit(X_train, y_train)"
   ]
  },
  {
   "cell_type": "code",
   "execution_count": 15,
   "metadata": {},
   "outputs": [
    {
     "name": "stdout",
     "output_type": "stream",
     "text": [
      "Accuracy: 0.6684782608695652\n"
     ]
    }
   ],
   "source": [
    "# get the accuracy\n",
    "accuracy = knn.score(X_test, y_test)\n",
    "print(f\"Accuracy: {accuracy}\")"
   ]
  },
  {
   "cell_type": "code",
   "execution_count": 16,
   "metadata": {},
   "outputs": [
    {
     "data": {
      "text/plain": [
       "array([0.69945355, 0.73224044, 0.67213115, 0.72677596, 0.66120219])"
      ]
     },
     "execution_count": 16,
     "metadata": {},
     "output_type": "execute_result"
    }
   ],
   "source": [
    "# perform cross-validation\n",
    "UtilityFunctions.cross_val_score(knn, X.to_numpy(), y.to_numpy(), cv=5)"
   ]
  },
  {
   "cell_type": "code",
   "execution_count": 17,
   "metadata": {},
   "outputs": [
    {
     "name": "stdout",
     "output_type": "stream",
     "text": [
      "Accuracy: 0.6684782608695652\n"
     ]
    }
   ],
   "source": [
    "# try sklearn's KNN\n",
    "from sklearn.neighbors import KNeighborsClassifier\n",
    "\n",
    "knn = KNeighborsClassifier(n_neighbors=11)\n",
    "\n",
    "# fit the model\n",
    "knn.fit(X_train, y_train)\n",
    "\n",
    "# get the accuracy\n",
    "accuracy = knn.score(X_test, y_test)\n",
    "print(f\"Accuracy: {accuracy}\")"
   ]
  },
  {
   "cell_type": "code",
   "execution_count": null,
   "metadata": {},
   "outputs": [],
   "source": []
  }
 ],
 "metadata": {
  "kernelspec": {
   "display_name": "Python 3",
   "language": "python",
   "name": "python3"
  },
  "language_info": {
   "codemirror_mode": {
    "name": "ipython",
    "version": 3
   },
   "file_extension": ".py",
   "mimetype": "text/x-python",
   "name": "python",
   "nbconvert_exporter": "python",
   "pygments_lexer": "ipython3",
   "version": "3.10.12"
  }
 },
 "nbformat": 4,
 "nbformat_minor": 2
}
