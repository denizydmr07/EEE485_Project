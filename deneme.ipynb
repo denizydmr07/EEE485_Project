{
 "cells": [
  {
   "cell_type": "code",
   "execution_count": 35,
   "metadata": {},
   "outputs": [],
   "source": [
    "import numpy as np\n",
    "import pandas as pd\n",
    "from custom_ml_utils import (\n",
    "    data_splitting,\n",
    "    encoders,\n",
    "    metrics,\n",
    "    pca,\n",
    "    scalers,\n",
    "    visualizations,\n",
    ")"
   ]
  },
  {
   "cell_type": "code",
   "execution_count": 36,
   "metadata": {},
   "outputs": [
    {
     "name": "stdout",
     "output_type": "stream",
     "text": [
      "Dataset URL: https://www.kaggle.com/datasets/fedesoriano/heart-failure-prediction\n",
      "License(s): ODbL-1.0\n",
      "heart-failure-prediction.zip: Skipping, found more recently modified local copy (use --force to force download)\n",
      "Archive:  heart-failure-prediction.zip\n",
      "  inflating: heart.csv               \n"
     ]
    }
   ],
   "source": [
    "# Download the dataset\n",
    "!kaggle datasets download -d fedesoriano/heart-failure-prediction\n",
    "\n",
    "# Unzip the dataset\n",
    "!unzip -o heart-failure-prediction.zip\n"
   ]
  },
  {
   "cell_type": "code",
   "execution_count": 37,
   "metadata": {},
   "outputs": [],
   "source": [
    "random_seed = 42\n",
    "np.random.seed(random_seed)"
   ]
  },
  {
   "cell_type": "code",
   "execution_count": 38,
   "metadata": {},
   "outputs": [
    {
     "data": {
      "text/html": [
       "<div>\n",
       "<style scoped>\n",
       "    .dataframe tbody tr th:only-of-type {\n",
       "        vertical-align: middle;\n",
       "    }\n",
       "\n",
       "    .dataframe tbody tr th {\n",
       "        vertical-align: top;\n",
       "    }\n",
       "\n",
       "    .dataframe thead th {\n",
       "        text-align: right;\n",
       "    }\n",
       "</style>\n",
       "<table border=\"1\" class=\"dataframe\">\n",
       "  <thead>\n",
       "    <tr style=\"text-align: right;\">\n",
       "      <th></th>\n",
       "      <th>Age</th>\n",
       "      <th>Sex</th>\n",
       "      <th>ChestPainType</th>\n",
       "      <th>RestingBP</th>\n",
       "      <th>Cholesterol</th>\n",
       "      <th>FastingBS</th>\n",
       "      <th>RestingECG</th>\n",
       "      <th>MaxHR</th>\n",
       "      <th>ExerciseAngina</th>\n",
       "      <th>Oldpeak</th>\n",
       "      <th>ST_Slope</th>\n",
       "      <th>HeartDisease</th>\n",
       "    </tr>\n",
       "  </thead>\n",
       "  <tbody>\n",
       "    <tr>\n",
       "      <th>0</th>\n",
       "      <td>40</td>\n",
       "      <td>M</td>\n",
       "      <td>ATA</td>\n",
       "      <td>140</td>\n",
       "      <td>289</td>\n",
       "      <td>0</td>\n",
       "      <td>Normal</td>\n",
       "      <td>172</td>\n",
       "      <td>N</td>\n",
       "      <td>0.0</td>\n",
       "      <td>Up</td>\n",
       "      <td>0</td>\n",
       "    </tr>\n",
       "    <tr>\n",
       "      <th>1</th>\n",
       "      <td>49</td>\n",
       "      <td>F</td>\n",
       "      <td>NAP</td>\n",
       "      <td>160</td>\n",
       "      <td>180</td>\n",
       "      <td>0</td>\n",
       "      <td>Normal</td>\n",
       "      <td>156</td>\n",
       "      <td>N</td>\n",
       "      <td>1.0</td>\n",
       "      <td>Flat</td>\n",
       "      <td>1</td>\n",
       "    </tr>\n",
       "    <tr>\n",
       "      <th>2</th>\n",
       "      <td>37</td>\n",
       "      <td>M</td>\n",
       "      <td>ATA</td>\n",
       "      <td>130</td>\n",
       "      <td>283</td>\n",
       "      <td>0</td>\n",
       "      <td>ST</td>\n",
       "      <td>98</td>\n",
       "      <td>N</td>\n",
       "      <td>0.0</td>\n",
       "      <td>Up</td>\n",
       "      <td>0</td>\n",
       "    </tr>\n",
       "    <tr>\n",
       "      <th>3</th>\n",
       "      <td>48</td>\n",
       "      <td>F</td>\n",
       "      <td>ASY</td>\n",
       "      <td>138</td>\n",
       "      <td>214</td>\n",
       "      <td>0</td>\n",
       "      <td>Normal</td>\n",
       "      <td>108</td>\n",
       "      <td>Y</td>\n",
       "      <td>1.5</td>\n",
       "      <td>Flat</td>\n",
       "      <td>1</td>\n",
       "    </tr>\n",
       "    <tr>\n",
       "      <th>4</th>\n",
       "      <td>54</td>\n",
       "      <td>M</td>\n",
       "      <td>NAP</td>\n",
       "      <td>150</td>\n",
       "      <td>195</td>\n",
       "      <td>0</td>\n",
       "      <td>Normal</td>\n",
       "      <td>122</td>\n",
       "      <td>N</td>\n",
       "      <td>0.0</td>\n",
       "      <td>Up</td>\n",
       "      <td>0</td>\n",
       "    </tr>\n",
       "  </tbody>\n",
       "</table>\n",
       "</div>"
      ],
      "text/plain": [
       "   Age Sex ChestPainType  RestingBP  Cholesterol  FastingBS RestingECG  MaxHR  \\\n",
       "0   40   M           ATA        140          289          0     Normal    172   \n",
       "1   49   F           NAP        160          180          0     Normal    156   \n",
       "2   37   M           ATA        130          283          0         ST     98   \n",
       "3   48   F           ASY        138          214          0     Normal    108   \n",
       "4   54   M           NAP        150          195          0     Normal    122   \n",
       "\n",
       "  ExerciseAngina  Oldpeak ST_Slope  HeartDisease  \n",
       "0              N      0.0       Up             0  \n",
       "1              N      1.0     Flat             1  \n",
       "2              N      0.0       Up             0  \n",
       "3              Y      1.5     Flat             1  \n",
       "4              N      0.0       Up             0  "
      ]
     },
     "execution_count": 38,
     "metadata": {},
     "output_type": "execute_result"
    }
   ],
   "source": [
    "# Load the dataset\n",
    "data = pd.read_csv('heart.csv')\n",
    "\n",
    "# Show the first few rows\n",
    "data.head()"
   ]
  },
  {
   "cell_type": "code",
   "execution_count": 39,
   "metadata": {},
   "outputs": [
    {
     "name": "stdout",
     "output_type": "stream",
     "text": [
      "<class 'pandas.core.frame.DataFrame'>\n",
      "RangeIndex: 918 entries, 0 to 917\n",
      "Data columns (total 11 columns):\n",
      " #   Column          Non-Null Count  Dtype  \n",
      "---  ------          --------------  -----  \n",
      " 0   Age             918 non-null    int64  \n",
      " 1   Sex             918 non-null    object \n",
      " 2   ChestPainType   918 non-null    object \n",
      " 3   RestingBP       918 non-null    int64  \n",
      " 4   Cholesterol     918 non-null    int64  \n",
      " 5   FastingBS       918 non-null    int64  \n",
      " 6   RestingECG      918 non-null    object \n",
      " 7   MaxHR           918 non-null    int64  \n",
      " 8   ExerciseAngina  918 non-null    object \n",
      " 9   Oldpeak         918 non-null    float64\n",
      " 10  ST_Slope        918 non-null    object \n",
      "dtypes: float64(1), int64(5), object(5)\n",
      "memory usage: 79.0+ KB\n"
     ]
    }
   ],
   "source": [
    "X = data.drop('HeartDisease', axis=1)\n",
    "X.info()"
   ]
  },
  {
   "cell_type": "code",
   "execution_count": 40,
   "metadata": {},
   "outputs": [],
   "source": [
    "def encode_data(X):\n",
    "    # columns to be one-hot encoded\n",
    "    one_hot_columns = [\"ChestPainType\", \"RestingECG\", \"ST_Slope\"]\n",
    "\n",
    "    # columns to be ordinal encoded\n",
    "    ordinal_columns = [\"Sex\", \"ExerciseAngina\"]\n",
    "\n",
    "    # apply one-hot encoding\n",
    "    one_hot_encoder = encoders.OneHotEncoder()\n",
    "    for column in one_hot_columns:\n",
    "        x = one_hot_encoder.fit_transform(X[column], column_prefix=column)\n",
    "        # drop the original column\n",
    "        X = X.drop(column, axis=1)\n",
    "        # add the new columns\n",
    "        X = pd.concat([X, x], axis=1)\n",
    "\n",
    "    # apply ordinal encoding\n",
    "    ordinal_encoder = encoders.OrdinalEncoder()\n",
    "    for column in ordinal_columns:\n",
    "        x = ordinal_encoder.fit_transform(X[column], column_prefix=column)\n",
    "        # drop the original column\n",
    "        X = X.drop(column, axis=1)\n",
    "        # add the new columns\n",
    "        X = pd.concat([X, x], axis=1)\n",
    "\n",
    "    return X"
   ]
  },
  {
   "cell_type": "code",
   "execution_count": 41,
   "metadata": {},
   "outputs": [],
   "source": [
    "def preprocess_data(data, train=True) -> tuple:\n",
    "    \"\"\"\n",
    "    Preprocess the data\n",
    "\n",
    "    Args:\n",
    "    data: pd.DataFrame: the data to preprocess\n",
    "    train: bool: whether the data is the training set\n",
    "\n",
    "    Returns:\n",
    "    X: np.ndarray: the preprocessed data\n",
    "    y: np.ndarray: the target\n",
    "    \"\"\"\n",
    "    if train:\n",
    "        # Get the features and the target\n",
    "        X = data.drop('HeartDisease', axis=1)\n",
    "        y = data['HeartDisease']\n",
    "        \n",
    "    X = encode_data(X)\n",
    "    y = y\n",
    "\n",
    "    # columns to be min-max scaled\n",
    "    columns_to_scale = [\"Age\", \"RestingBP\", \"Cholesterol\", \"MaxHR\", \"Oldpeak\"]\n",
    "    # getting their indices\n",
    "    indices = [X.columns.get_loc(column) for column in columns_to_scale]\n",
    "\n",
    "    #  convert the data to a numpy array\n",
    "    X = X.to_numpy()\n",
    "    y = y.to_numpy()\n",
    "\n",
    "    # apply min-max scaling\n",
    "    scaler = scalers.MinMaxScaler()\n",
    "    X = scaler.fit_transform(X, indices)\n",
    "\n",
    "    # return the preprocessed data\n",
    "    return X, y\n"
   ]
  },
  {
   "cell_type": "code",
   "execution_count": 42,
   "metadata": {},
   "outputs": [],
   "source": [
    "X, y = preprocess_data(data)"
   ]
  },
  {
   "cell_type": "code",
   "execution_count": 43,
   "metadata": {},
   "outputs": [
    {
     "data": {
      "text/plain": [
       "array([[0.24489796, 0.7       , 0.47927032, ..., 1.        , 1.        ,\n",
       "        0.        ],\n",
       "       [0.42857143, 0.8       , 0.29850746, ..., 0.        , 0.        ,\n",
       "        0.        ],\n",
       "       [0.18367347, 0.65      , 0.46932007, ..., 1.        , 1.        ,\n",
       "        0.        ],\n",
       "       ...,\n",
       "       [0.59183673, 0.65      , 0.2172471 , ..., 0.        , 1.        ,\n",
       "        1.        ],\n",
       "       [0.59183673, 0.65      , 0.39137645, ..., 0.        , 0.        ,\n",
       "        0.        ],\n",
       "       [0.20408163, 0.69      , 0.29021559, ..., 1.        , 1.        ,\n",
       "        0.        ]])"
      ]
     },
     "execution_count": 43,
     "metadata": {},
     "output_type": "execute_result"
    }
   ],
   "source": [
    "X"
   ]
  },
  {
   "cell_type": "code",
   "execution_count": 44,
   "metadata": {},
   "outputs": [],
   "source": [
    "# KNN model definition\n",
    "class KNN:\n",
    "    \"\"\"\n",
    "    K-Nearest Neighbors classifier.\n",
    "\n",
    "    Parameters:\n",
    "    -----------\n",
    "    k: int\n",
    "        The number of closest neighbors that will determine the class of the sample that we wish to predict.\n",
    "    \"\"\"\n",
    "\n",
    "    def __init__(self, k=5):\n",
    "        \"\"\"\n",
    "        Initialize the KNN classifier.\n",
    "\n",
    "        Parameters:\n",
    "        -----------\n",
    "        k: int\n",
    "            The number of closest neighbors that will determine the class of the sample that we wish to predict\n",
    "        \"\"\"\n",
    "        self.k = k\n",
    "\n",
    "    def fit(self, X, y):\n",
    "        \"\"\"\n",
    "        Fit the training data to the model.\n",
    "\n",
    "        Parameters:\n",
    "        -----------\n",
    "        X: numpy array\n",
    "            The training data\n",
    "        y: numpy array\n",
    "            The target labels\n",
    "        \"\"\"\n",
    "        self.X = X\n",
    "        self.y = y\n",
    "\n",
    "    def predict(self, X):\n",
    "        \"\"\"\n",
    "        Predict the class labels for the provided data.\n",
    "\n",
    "        Parameters:\n",
    "        -----------\n",
    "        X: numpy array\n",
    "            The data to predict the class labels for\n",
    "\n",
    "        Returns:\n",
    "        --------\n",
    "        numpy array\n",
    "            The predicted class labels\n",
    "        \"\"\"\n",
    "        neighbors = self.get_neighbors(X)\n",
    "        return self.get_majority(neighbors)\n",
    "    \n",
    "    def get_neighbors(self, X):\n",
    "        \"\"\"\n",
    "        Get the indices of the k closest neighbors for each test instance.\n",
    "\n",
    "        Parameters:\n",
    "        -----------\n",
    "        X: numpy array\n",
    "            The data to find the closest neighbors for\n",
    "\n",
    "        Returns:\n",
    "        --------\n",
    "        numpy array\n",
    "            The indices of the k closest neighbors for each test instance\n",
    "        \"\"\"\n",
    "        distances = self.get_distances(X)\n",
    "        neighbors = np.argsort(distances, axis=1)[:, :self.k]\n",
    "        return neighbors\n",
    "    \n",
    "    def __euclidean_distance(self, x1, x2):\n",
    "        \"\"\"\n",
    "        Compute the Euclidean distance between two vectors.\n",
    "\n",
    "        Parameters:\n",
    "        -----------\n",
    "        x1: numpy array\n",
    "            The first vector\n",
    "\n",
    "        x2: numpy array\n",
    "            The second vector\n",
    "\n",
    "        Returns:\n",
    "        --------\n",
    "        float\n",
    "            The Euclidean distance between the two vectors\n",
    "        \"\"\"\n",
    "        return np.sqrt(np.sum((x1 - x2) ** 2))\n",
    "    \n",
    "    \n",
    "    # def get_distances(self, X):\n",
    "    #     \"\"\"\n",
    "    #     Get the distances between each test instance and all training instances.\n",
    "\n",
    "    #     Parameters:\n",
    "    #     -----------\n",
    "    #     X: numpy array\n",
    "    #         The data to find the distances for\n",
    "\n",
    "    #     Returns:\n",
    "    #     --------\n",
    "    #     numpy array\n",
    "    #         The distances between each test instance and all training instances\n",
    "    #     \"\"\"\n",
    "    #     distances = np.zeros((X.shape[0], self.X.shape[0]))\n",
    "    #     for i, test_instance in enumerate(X):\n",
    "    #         for j, train_instance in enumerate(self.X):\n",
    "    #             distances[i, j] = self.__euclidean_distance(test_instance, train_instance)\n",
    "    #     return  distances\n",
    "    \n",
    "    def get_distances(self, X):\n",
    "        # Step 1: Compute the squared norms of each row in a and b\n",
    "        X_norm_squared = np.sum(X**2, axis=1).reshape(-1, 1)  # shape (n_test, 1)\n",
    "        selfX_norm_squared = np.sum(self.X**2, axis=1).reshape(1, -1)  # shape (1, n_train)\n",
    "\n",
    "        # Step 2: Compute the dot product between a and b\n",
    "        dot_product = np.dot(X, self.X.T)  # shape (n_test, n_train)\n",
    "\n",
    "        # Step 3: Compute the pairwise squared Euclidean distances\n",
    "        distances_squared = X_norm_squared + selfX_norm_squared - 2 * dot_product\n",
    "\n",
    "        # Step 4: Take the square root to get the Euclidean distances\n",
    "        distances = np.sqrt(distances_squared)\n",
    "    \n",
    "        return distances\n",
    "    \n",
    "    def get_majority(self, neighbors):\n",
    "        \"\"\"\n",
    "        Get the majority class label for each test instance.\n",
    "\n",
    "        Parameters:\n",
    "        -----------\n",
    "        neighbors: numpy array\n",
    "            The indices of the k closest neighbors for each test instance\n",
    "\n",
    "        Returns:\n",
    "        --------\n",
    "        numpy array\n",
    "            The majority class label for each test instance\n",
    "        \"\"\"\n",
    "        majority = np.zeros(neighbors.shape[0], dtype=int)\n",
    "        for i, row in enumerate(neighbors):\n",
    "            majority[i] = np.argmax(np.bincount(self.y[row]))\n",
    "        return majority\n",
    "    \n",
    "    def score(self, X, y):\n",
    "        \"\"\"\n",
    "        Compute the accuracy of the model.\n",
    "\n",
    "        Parameters:\n",
    "        -----------\n",
    "        X: numpy array\n",
    "            The test data\n",
    "        y: numpy array\n",
    "            The true class labels\n",
    "\n",
    "        Returns:\n",
    "        --------\n",
    "        float\n",
    "            The accuracy of the model\n",
    "        \"\"\"\n",
    "        y_pred = self.predict(X)\n",
    "        return np.mean(y == y_pred)"
   ]
  },
  {
   "cell_type": "code",
   "execution_count": 45,
   "metadata": {},
   "outputs": [
    {
     "data": {
      "image/png": "[encoded data removed]",
      "text/plain": [
       "<Figure size 720x432 with 1 Axes>"
      ]
     },
     "metadata": {},
     "output_type": "display_data"
    }
   ],
   "source": [
    "# apply PCA\n",
    "pca = pca.PCA()\n",
    "pca.fit(X)\n",
    "pca.plot_explained_variance()"
   ]
  },
  {
   "cell_type": "code",
   "execution_count": 46,
   "metadata": {},
   "outputs": [],
   "source": [
    "# split the data\n",
    "X_train, X_test, y_train, y_test = data_splitting.train_test_split(X, y, test_size=0.2, random_seed=random_seed)"
   ]
  },
  {
   "cell_type": "code",
   "execution_count": 47,
   "metadata": {},
   "outputs": [],
   "source": [
    "# apply KNN\n",
    "knn = KNN(k=5)\n",
    "knn.fit(X_train, y_train)"
   ]
  },
  {
   "cell_type": "code",
   "execution_count": 48,
   "metadata": {},
   "outputs": [
    {
     "name": "stdout",
     "output_type": "stream",
     "text": [
      "Accuracy: 0.8306010928961749\n"
     ]
    }
   ],
   "source": [
    "# get the accuracy\n",
    "accuracy = knn.score(X_test, y_test)\n",
    "print(f\"Accuracy: {accuracy}\")"
   ]
  },
  {
   "cell_type": "code",
   "execution_count": 49,
   "metadata": {},
   "outputs": [
    {
     "data": {
      "text/plain": [
       "array([0.83606557, 0.8579235 , 0.8579235 , 0.83060109, 0.82513661])"
      ]
     },
     "execution_count": 49,
     "metadata": {},
     "output_type": "execute_result"
    }
   ],
   "source": [
    "# perform cross-validation\n",
    "data_splitting.cross_val_score(knn, X, y, cv=5)"
   ]
  },
  {
   "cell_type": "code",
   "execution_count": 50,
   "metadata": {},
   "outputs": [
    {
     "name": "stdout",
     "output_type": "stream",
     "text": [
      "Accuracy: 0.8306010928961749\n"
     ]
    }
   ],
   "source": [
    "# try sklearn's KNN\n",
    "from sklearn.neighbors import KNeighborsClassifier\n",
    "\n",
    "knn = KNeighborsClassifier(n_neighbors=5)\n",
    "\n",
    "# fit the model\n",
    "knn.fit(X_train, y_train)\n",
    "\n",
    "# get the accuracy\n",
    "accuracy = knn.score(X_test, y_test)\n",
    "print(f\"Accuracy: {accuracy}\")"
   ]
  },
  {
   "cell_type": "code",
   "execution_count": 51,
   "metadata": {},
   "outputs": [
    {
     "data": {
      "image/png": "[encoded data removed]",
      "text/plain": [
       "<Figure size 576x432 with 2 Axes>"
      ]
     },
     "metadata": {},
     "output_type": "display_data"
    }
   ],
   "source": [
    "# plot the confusion matrix\n",
    "conf_matrix = metrics.confusion_matrix(y_test, knn.predict(X_test))\n",
    "visualizations.plot_confusion_matrix(conf_matrix, labels=[0, 1])"
   ]
  }
 ],
 "metadata": {
  "kernelspec": {
   "display_name": "Python 3",
   "language": "python",
   "name": "python3"
  },
  "language_info": {
   "codemirror_mode": {
    "name": "ipython",
    "version": 3
   },
   "file_extension": ".py",
   "mimetype": "text/x-python",
   "name": "python",
   "nbconvert_exporter": "python",
   "pygments_lexer": "ipython3",
   "version": "3.10.12"
  }
 },
 "nbformat": 4,
 "nbformat_minor": 2
}
